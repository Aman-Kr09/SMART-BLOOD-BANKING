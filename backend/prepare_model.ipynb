{
 "cells": [
  {
   "cell_type": "code",
   "execution_count": 1,
   "id": "c5b265cc",
   "metadata": {},
   "outputs": [
    {
     "name": "stdout",
     "output_type": "stream",
     "text": [
      "Test R^2 score: -0.24\n",
      "Model saved to models/blood_donation_model.pkl\n"
     ]
    }
   ],
   "source": [
    "# Cell 1: Import libraries\n",
    "import pandas as pd\n",
    "import numpy as np\n",
    "from sklearn.linear_model import LinearRegression\n",
    "from sklearn.model_selection import train_test_split\n",
    "import joblib\n",
    "\n",
    "# Cell 2: Load data\n",
    "df = pd.read_csv(\"blood_demand_data.csv\")\n",
    "\n",
    "# Cell 3: Add synthetic columns for missing features\n",
    "np.random.seed(42)\n",
    "df['DayOfWeek'] = np.random.randint(0, 7, size=len(df))\n",
    "df['Month'] = np.random.randint(1, 13, size=len(df))\n",
    "df['Population'] = np.random.randint(10000, 100000, size=len(df))\n",
    "df['Events'] = np.random.randint(0, 3, size=len(df))\n",
    "\n",
    "# Cell 4: Create target variable (simulate demand)\n",
    "df['BloodDemand'] = (\n",
    "    0.5 * df['Population'] / 1000 +\n",
    "    0.2 * df['HistoricalBloodUsage'] +\n",
    "    0.1 * df['HospitalAdmissions'] +\n",
    "    0.05 * df['BloodDonorsAvailable'] +\n",
    "    0.05 * df['Temperature'] +\n",
    "    5 * df['Events'] +\n",
    "    np.random.normal(0, 10, size=len(df))\n",
    ")\n",
    "\n",
    "# Cell 5: Prepare features and target\n",
    "features = [\n",
    "    'DayOfWeek', 'Month', 'Population', 'Events',\n",
    "    'HistoricalBloodUsage', 'HospitalAdmissions',\n",
    "    'BloodDonorsAvailable', 'Temperature'\n",
    "]\n",
    "X = df[features]\n",
    "y = df['BloodDemand']\n",
    "\n",
    "# Cell 6: Train/test split\n",
    "X_train, X_test, y_train, y_test = train_test_split(X, y, test_size=0.2, random_state=42)\n",
    "\n",
    "# Cell 7: Train model\n",
    "model = LinearRegression()\n",
    "model.fit(X_train, y_train)\n",
    "\n",
    "# Cell 8: Evaluate model\n",
    "score = model.score(X_test, y_test)\n",
    "print(f\"Test R^2 score: {score:.2f}\")\n",
    "\n",
    "# Cell 9: Save model\n",
    "joblib.dump(model, \"models/blood_donation_model.pkl\")\n",
    "print(\"Model saved to models/blood_donation_model.pkl\")"
   ]
  },
  {
   "cell_type": "code",
   "execution_count": 2,
   "id": "b7930d50",
   "metadata": {},
   "outputs": [
    {
     "name": "stdout",
     "output_type": "stream",
     "text": [
      "Predicted Blood Demand: 47.67 units\n"
     ]
    },
    {
     "name": "stderr",
     "output_type": "stream",
     "text": [
      "c:\\Users\\abhis\\anaconda3\\Lib\\site-packages\\sklearn\\utils\\validation.py:2739: UserWarning: X does not have valid feature names, but LinearRegression was fitted with feature names\n",
      "  warnings.warn(\n"
     ]
    }
   ],
   "source": [
    "# Example: Load model and predict output\n",
    "import joblib\n",
    "import numpy as np\n",
    "\n",
    "# Load the trained model\n",
    "model = joblib.load('models/blood_donation_model.pkl')\n",
    "\n",
    "# Prepare a sample input (replace with real values as needed)\n",
    "sample_input = np.array([[\n",
    "    2,      # DayOfWeek (e.g., Wednesday)\n",
    "    5,      # Month (e.g., May)\n",
    "    50000,  # Population\n",
    "    1,      # Events\n",
    "    160,    # HistoricalBloodUsage\n",
    "    45,     # HospitalAdmissions\n",
    "    120,    # BloodDonorsAvailable\n",
    "    26.0    # Temperature\n",
    "]])\n",
    "\n",
    "# Predict blood demand\n",
    "predicted = model.predict(sample_input)\n",
    "print(f'Predicted Blood Demand: {predicted[0]:.2f} units')"
   ]
  },
  {
   "cell_type": "code",
   "execution_count": null,
   "id": "3655c424",
   "metadata": {},
   "outputs": [],
   "source": []
  }
 ],
 "metadata": {
  "kernelspec": {
   "display_name": "base",
   "language": "python",
   "name": "python3"
  },
  "language_info": {
   "codemirror_mode": {
    "name": "ipython",
    "version": 3
   },
   "file_extension": ".py",
   "mimetype": "text/x-python",
   "name": "python",
   "nbconvert_exporter": "python",
   "pygments_lexer": "ipython3",
   "version": "3.13.5"
  }
 },
 "nbformat": 4,
 "nbformat_minor": 5
}
